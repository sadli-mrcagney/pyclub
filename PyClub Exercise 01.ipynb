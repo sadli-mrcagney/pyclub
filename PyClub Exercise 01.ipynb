{
 "cells": [
  {
   "cell_type": "markdown",
   "metadata": {},
   "source": [
    "Developed by Saeid Adli\n",
    "for PyClub"
   ]
  },
  {
   "cell_type": "code",
   "execution_count": 28,
   "metadata": {
    "collapsed": false
   },
   "outputs": [],
   "source": [
    "#opens a text file and convert it to a list\n",
    "with open('words.txt', 'r') as f:\n",
    "    reader = csv.reader(f)\n",
    "    words = list(reader)\n"
   ]
  },
  {
   "cell_type": "code",
   "execution_count": 29,
   "metadata": {
    "collapsed": false
   },
   "outputs": [
    {
     "name": "stdout",
     "output_type": "stream",
     "text": [
      "bookkeeper\n",
      "bookkeepers\n",
      "bookkeeping\n",
      "bookkeepings\n"
     ]
    }
   ],
   "source": [
    "#iterate through the list of words and find where we have three doubles\n",
    "#only uses basic list functions\n",
    "for word in words:\n",
    "    pair = 0\n",
    "    locs = []\n",
    "    word = word[0]\n",
    "    for i in range(len(word)-1):\n",
    "        if word[i] == word[i+1]: \n",
    "            pair+=1\n",
    "            locs.append(i)\n",
    "    if pair == 3 and locs[-1] - locs[0] == 4:\n",
    "        print (word)"
   ]
  }
 ],
 "metadata": {
  "anaconda-cloud": {},
  "kernelspec": {
   "display_name": "Python [conda env:py34]",
   "language": "python",
   "name": "conda-env-py34-py"
  },
  "language_info": {
   "codemirror_mode": {
    "name": "ipython",
    "version": 3
   },
   "file_extension": ".py",
   "mimetype": "text/x-python",
   "name": "python",
   "nbconvert_exporter": "python",
   "pygments_lexer": "ipython3",
   "version": "3.4.5"
  }
 },
 "nbformat": 4,
 "nbformat_minor": 0
}
